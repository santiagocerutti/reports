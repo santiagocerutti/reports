{
 "cells": [
  {
   "cell_type": "code",
   "execution_count": 8,
   "metadata": {},
   "outputs": [],
   "source": [
    "from dbfread import DBF\n",
    "import pandas as pd\n",
    "from dash import Dash, dcc, html, Input, Output\n",
    "import plotly.express as px\n",
    "\n",
    "dbf = DBF('../data/Municipalities_with_topo.dbf', encoding='utf-8')\n",
    "df = pd.DataFrame(iter(dbf))\n",
    "df.to_csv(\"../data/Municipalities_with_topo.csv\")\n"
   ]
  },
  {
   "cell_type": "code",
   "execution_count": 7,
   "metadata": {},
   "outputs": [
    {
     "data": {
      "text/plain": [
       "Index(['fid', 'CVEGEO', 'CVE_ENT', 'CVE_MUN', 'NOMGEO', 'tri1k_mean',\n",
       "       'tri1k_stde', 'tri1k_max', 'vrm1k_mean', 'vrm1k_stde', 'vrm1k_max',\n",
       "       'tpi1k_mean', 'tpi1k_stde', 'tpi1k_max', 'slp1k_mean', 'slp1k_stde',\n",
       "       'slp1k_max', 'rou1k_mean', 'rou1k_stde', 'rou1k_max', 'ele1k_mean',\n",
       "       'ele1k_stde', 'ele1k_max'],\n",
       "      dtype='object')"
      ]
     },
     "execution_count": 7,
     "metadata": {},
     "output_type": "execute_result"
    }
   ],
   "source": [
    "df.columns\n",
    "\n"
   ]
  },
  {
   "cell_type": "code",
   "execution_count": 21,
   "metadata": {},
   "outputs": [
    {
     "data": {
      "text/plain": [
       "Index(['tri1k_mean', 'tri1k_stde', 'tri1k_max', 'vrm1k_mean', 'vrm1k_stde',\n",
       "       'vrm1k_max', 'tpi1k_mean', 'tpi1k_stde', 'tpi1k_max', 'slp1k_mean',\n",
       "       'slp1k_stde', 'slp1k_max', 'rou1k_mean', 'rou1k_stde', 'rou1k_max',\n",
       "       'ele1k_mean', 'ele1k_stde', 'ele1k_max'],\n",
       "      dtype='object')"
      ]
     },
     "execution_count": 21,
     "metadata": {},
     "output_type": "execute_result"
    }
   ],
   "source": [
    "vars = df.columns[5:]\n",
    "vars"
   ]
  },
  {
   "cell_type": "code",
   "execution_count": null,
   "metadata": {},
   "outputs": [],
   "source": [
    "px.strip(df, x=\"tri1k_mean\", hover_name=\"NOMGEO\", color=\"CVE_ENT\",height=500)"
   ]
  },
  {
   "cell_type": "code",
   "execution_count": null,
   "metadata": {},
   "outputs": [],
   "source": [
    "# Matrix correlations\n",
    "fig_1 = px.scatter_matrix(df,\n",
    "                dimensions=['tri1k_mean', 'vrm1k_mean', 'rou1k_mean','slp1k_mean'],\n",
    "                hover_name=\"NOMGEO\",\n",
    "                width=800,\n",
    "                height=500,\n",
    "                title=\"<b>Matrix correlations<b>\",\n",
    "                opacity=.6,\n",
    "                )\n",
    "\n",
    "fig_1.update_traces(diagonal_visible=False)\n",
    "fig_1.show()\n",
    "fig_1.write_image(\"D:/Documentos/Banco Mundial/do/DESARROLLO DIGITAL/LAC_MOBILE/images/mat_corr.png\")"
   ]
  },
  {
   "cell_type": "code",
   "execution_count": 47,
   "metadata": {},
   "outputs": [
    {
     "data": {
      "text/html": [
       "\n",
       "        <iframe\n",
       "            width=\"100%\"\n",
       "            height=\"650\"\n",
       "            src=\"http://127.0.0.1:8050/\"\n",
       "            frameborder=\"0\"\n",
       "            allowfullscreen\n",
       "            \n",
       "        ></iframe>\n",
       "        "
      ],
      "text/plain": [
       "<IPython.lib.display.IFrame at 0x19808b1d610>"
      ]
     },
     "metadata": {},
     "output_type": "display_data"
    }
   ],
   "source": [
    "from dbfread import DBF\n",
    "import pandas as pd\n",
    "from dash import Dash, dcc, html, Input, Output\n",
    "import plotly.express as px\n",
    "\n",
    "dbf = DBF('D:/Documentos/Apps Python/reports/data/Municipalities_with_topo.dbf', encoding='utf-8')\n",
    "df = pd.DataFrame(iter(dbf))\n",
    "\n",
    "app = Dash(__name__)\n",
    "\n",
    "app.layout = html.Div([\n",
    "    html.H4('Matrix correlations'),\n",
    "    dcc.Dropdown(\n",
    "        id=\"dropdown\",\n",
    "        options=vars,\n",
    "        value=['tri1k_mean', 'vrm1k_mean', 'rou1k_mean','slp1k_mean'],\n",
    "        multi=True\n",
    "    ),\n",
    "    dcc.Graph(id=\"graph\"),\n",
    "])\n",
    "\n",
    "\n",
    "@app.callback(\n",
    "    Output(\"graph\", \"figure\"), \n",
    "    Input(\"dropdown\", \"value\"))\n",
    "def update_bar_chart(dims):\n",
    "    fig = px.scatter_matrix(\n",
    "        df, \n",
    "        dimensions=dims\n",
    "    )\n",
    "\n",
    "    return fig\n",
    "\n",
    "\n",
    "app.run_server(debug=True)"
   ]
  },
  {
   "cell_type": "markdown",
   "metadata": {},
   "source": [
    "# PARA MAPAS"
   ]
  },
  {
   "cell_type": "code",
   "execution_count": null,
   "metadata": {},
   "outputs": [],
   "source": [
    "# Convertir GeoDataFrame a GeoJSON\n",
    "geojson = gdf.to_json()"
   ]
  },
  {
   "cell_type": "code",
   "execution_count": null,
   "metadata": {},
   "outputs": [],
   "source": [
    "# Convertir CRS a WGS84\n",
    "gdf = gdf.to_crs(epsg=4326)"
   ]
  },
  {
   "cell_type": "code",
   "execution_count": null,
   "metadata": {},
   "outputs": [],
   "source": [
    "# Crear el mapa coroplético\n",
    "fig = px.choropleth_mapbox(\n",
    "    gdf,\n",
    "    geojson=geojson,\n",
    "    locations=gdf.index,\n",
    "    color=\"tri1k_mean\",\n",
    "    hover_name=\"NOMGEO\",\n",
    "    mapbox_style=\"carto-positron\",\n",
    "    center={\"lat\": gdf.geometry.centroid.y.mean(), \"lon\": gdf.geometry.centroid.x.mean()},\n",
    "    zoom=5,\n",
    "    opacity=0.5\n",
    ")\n",
    "\n",
    "fig.update_layout(margin={\"r\":0,\"t\":0,\"l\":0,\"b\":0})\n",
    "fig.show()"
   ]
  },
  {
   "cell_type": "code",
   "execution_count": null,
   "metadata": {},
   "outputs": [],
   "source": [
    "# Reproyectar a un CRS proyectado (por ejemplo, UTM Zone 14N, EPSG:32614)\n",
    "gdf_projected = gdf.to_crs(epsg=32614)\n",
    "\n",
    "# Calcular los centroides en el CRS proyectado\n",
    "gdf_projected['centroid'] = gdf_projected.geometry.centroid\n",
    "\n",
    "# Reproyectar de nuevo a WGS84\n",
    "gdf = gdf_projected.to_crs(epsg=4326)\n",
    "gdf['centroid'] = gdf['centroid'].to_crs(epsg=4326)\n",
    "\n",
    "# Convertir GeoDataFrame a GeoJSON\n",
    "geojson = gdf.to_json()\n",
    "\n",
    "# Calcular el centro del mapa usando los centroides\n",
    "center_lat = gdf['centroid'].y.mean()\n",
    "center_lon = gdf['centroid'].x.mean()"
   ]
  },
  {
   "cell_type": "code",
   "execution_count": null,
   "metadata": {},
   "outputs": [],
   "source": [
    "px.choropleth(gdf, color=\"tri1k_mean\",geojson=geojson, locations=gdf.index, hover_name=\"NOMGEO\", height=500)"
   ]
  },
  {
   "cell_type": "code",
   "execution_count": null,
   "metadata": {},
   "outputs": [],
   "source": [
    "fig = px.choropleth_mapbox(\n",
    "    data_frame = gdf.set_index(\"CVEGEO\"), # Usar el ID como índice de los datos\n",
    "    geojson = gdf.geometry,                 # La geometría\n",
    "    locations = gdf.index,                  # El índice de los datos\n",
    "    color = 'tri1k_mean',\n",
    "    # Estética\n",
    "    color_continuous_scale=\"Viridis\",\n",
    "    opacity=0.5,\n",
    "    mapbox_style = 'open-street-map',\n",
    "    center = {\"lat\": 23.4346697, \"lon\": -100.8707838},\n",
    "    zoom = 3\n",
    ")"
   ]
  },
  {
   "cell_type": "code",
   "execution_count": null,
   "metadata": {},
   "outputs": [],
   "source": [
    "fig.show()"
   ]
  }
 ],
 "metadata": {
  "kernelspec": {
   "display_name": "Python 3",
   "language": "python",
   "name": "python3"
  },
  "language_info": {
   "codemirror_mode": {
    "name": "ipython",
    "version": 3
   },
   "file_extension": ".py",
   "mimetype": "text/x-python",
   "name": "python",
   "nbconvert_exporter": "python",
   "pygments_lexer": "ipython3",
   "version": "3.12.1"
  }
 },
 "nbformat": 4,
 "nbformat_minor": 2
}
